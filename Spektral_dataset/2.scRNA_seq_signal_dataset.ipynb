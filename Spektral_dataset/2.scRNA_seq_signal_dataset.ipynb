{
 "cells": [
  {
   "cell_type": "code",
   "execution_count": 2,
   "metadata": {},
   "outputs": [],
   "source": [
    "import networkx as nx\n",
    "import numpy as np\n",
    "import pandas as pd\n",
    "import scipy.sparse as sp\n",
    "from spektral.data import Dataset, Graph\n",
    "\n",
    "class scRNA(Dataset):\n",
    "\n",
    "    def __init__(self, **kwargs):\n",
    "        self.a = None\n",
    "        super().__init__(**kwargs)\n",
    "\n",
    "    def read(self):\n",
    "        x, y, node_order = _get_scRNA_exprs()\n",
    "        self.a = _get_adjacency(node_order)\n",
    "\n",
    "        return [Graph(x=x_, y=y_) for x_, y_ in zip(x, y)]\n",
    "\n",
    "def _get_adjacency(node_order):\n",
    "    #Read in edge file\n",
    "    g = nx.read_adjlist(\"./5.1.Edge_of_gene_gene_interaction_network.csv\",\n",
    "                        delimiter = \",\")\n",
    "    # Adjacency\n",
    "    A = nx.adj_matrix(g, weight = None, nodelist = node_order)\n",
    "    return A\n",
    "\n",
    "def _get_scRNA_exprs():\n",
    "    #Read in exprs file\n",
    "    exprs = pd.read_hdf(\"./6.Filtered_node_exprs.h5\", key = \"exprs\")\n",
    "    cell = pd.read_csv(\"./3.Cell_label.csv\", index_col = 0)\n",
    "    #Transpose the dataframe\n",
    "    exprs = exprs.T\n",
    "    #Exprs values reshape\n",
    "    x = exprs.values.reshape(exprs.shape[0], exprs.shape[1], 1)\n",
    "    #Cell label\n",
    "    y = cell[\"Number_label\"].values\n",
    "    #Node order\n",
    "    node_order = exprs.columns.to_list()\n",
    "    return x, y, node_order"
   ]
  }
 ],
 "metadata": {
  "kernelspec": {
   "display_name": "Python 3",
   "language": "python",
   "name": "python3"
  },
  "language_info": {
   "codemirror_mode": {
    "name": "ipython",
    "version": 3
   },
   "file_extension": ".py",
   "mimetype": "text/x-python",
   "name": "python",
   "nbconvert_exporter": "python",
   "pygments_lexer": "ipython3",
   "version": "3.7.6"
  }
 },
 "nbformat": 4,
 "nbformat_minor": 4
}
